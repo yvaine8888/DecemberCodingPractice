{
  "metadata": {
    "kernelspec": {
      "display_name": "Python 3",
      "language": "python",
      "name": "python3"
    },
    "language_info": {
      "codemirror_mode": {
        "name": "ipython",
        "version": 3
      },
      "file_extension": ".py",
      "mimetype": "text/x-python",
      "name": "python",
      "nbconvert_exporter": "python",
      "pygments_lexer": "ipython3",
      "version": "3.6.5"
    },
    "kaggle": {
      "accelerator": "none",
      "dataSources": [
        {
          "sourceId": 38454,
          "sourceType": "datasetVersion",
          "datasetId": 2709
        },
        {
          "sourceId": 260251,
          "sourceType": "datasetVersion",
          "datasetId": 108980
        }
      ],
      "isInternetEnabled": false,
      "language": "python",
      "sourceType": "notebook",
      "isGpuEnabled": false
    },
    "colab": {
      "provenance": [],
      "include_colab_link": true
    }
  },
  "nbformat_minor": 0,
  "nbformat": 4,
  "cells": [
    {
      "cell_type": "markdown",
      "metadata": {
        "id": "view-in-github",
        "colab_type": "text"
      },
      "source": [
        "<a href=\"https://colab.research.google.com/github/yvaine8888/DecemberCodingPractice/blob/main/Lesson2_Notebook_1.ipynb\" target=\"_parent\"><img src=\"https://colab.research.google.com/assets/colab-badge.svg\" alt=\"Open In Colab\"/></a>"
      ]
    },
    {
      "source": [
        "# IMPORTANT: RUN THIS CELL IN ORDER TO IMPORT YOUR KAGGLE DATA SOURCES,\n",
        "# THEN FEEL FREE TO DELETE THIS CELL.\n",
        "# NOTE: THIS NOTEBOOK ENVIRONMENT DIFFERS FROM KAGGLE'S PYTHON\n",
        "# ENVIRONMENT SO THERE MAY BE MISSING LIBRARIES USED BY YOUR\n",
        "# NOTEBOOK.\n",
        "\n",
        "import kagglehub\n",
        "\n",
        "# Download the Melbourne Housing Snapshot dataset\n",
        "dansbecker_melbourne_housing_snapshot_path = kagglehub.dataset_download('dansbecker/melbourne-housing-snapshot')\n",
        "\n",
        "# Download the Iowa Housing dataset (optional, in case you want both datasets)\n",
        "nickptaylor_iowa_house_prices_path = kagglehub.dataset_download('nickptaylor/iowa-house-prices')\n",
        "\n",
        "print('Data source import complete.')\n",
        "\n"
      ],
      "metadata": {
        "id": "eLRG0wa1pE5n",
        "colab": {
          "base_uri": "https://localhost:8080/"
        },
        "outputId": "d7333479-8916-4bb4-9933-60a76681c7dd"
      },
      "cell_type": "code",
      "outputs": [
        {
          "output_type": "stream",
          "name": "stdout",
          "text": [
            "Warning: Looks like you're using an outdated `kagglehub` version (installed: 0.3.5), please consider upgrading to the latest version (0.3.6).\n",
            "Downloading from https://www.kaggle.com/api/v1/datasets/download/dansbecker/melbourne-housing-snapshot?dataset_version_number=5...\n"
          ]
        },
        {
          "output_type": "stream",
          "name": "stderr",
          "text": [
            "100%|██████████| 451k/451k [00:00<00:00, 7.20MB/s]"
          ]
        },
        {
          "output_type": "stream",
          "name": "stdout",
          "text": [
            "Extracting files...\n"
          ]
        },
        {
          "output_type": "stream",
          "name": "stderr",
          "text": [
            "\n"
          ]
        },
        {
          "output_type": "stream",
          "name": "stdout",
          "text": [
            "Warning: Looks like you're using an outdated `kagglehub` version (installed: 0.3.5), please consider upgrading to the latest version (0.3.6).\n",
            "Downloading from https://www.kaggle.com/api/v1/datasets/download/nickptaylor/iowa-house-prices?dataset_version_number=1...\n"
          ]
        },
        {
          "output_type": "stream",
          "name": "stderr",
          "text": [
            "100%|██████████| 179k/179k [00:00<00:00, 59.4MB/s]"
          ]
        },
        {
          "output_type": "stream",
          "name": "stdout",
          "text": [
            "Extracting files...\n",
            "Data source import complete.\n"
          ]
        },
        {
          "output_type": "stream",
          "name": "stderr",
          "text": [
            "\n"
          ]
        }
      ],
      "execution_count": null
    },
    {
      "cell_type": "code",
      "source": [
        "import pandas as pd"
      ],
      "metadata": {
        "id": "UIKvv_YXpqF-"
      },
      "execution_count": null,
      "outputs": []
    },
    {
      "cell_type": "code",
      "source": [
        "\n",
        "# Import pandas for data handling\n",
        "import pandas as pd\n",
        "\n",
        "# Use the dynamically generated path from kagglehub\n",
        "melbourne_file_path = f\"{dansbecker_melbourne_housing_snapshot_path}/melb_data.csv\"\n",
        "\n",
        "# Read the data and store it in a DataFrame\n",
        "melbourne_data = pd.read_csv(melbourne_file_path)\n",
        "\n",
        "# Print a summary of the data in Melbourne data\n",
        "print(melbourne_data.describe())\n",
        "\n"
      ],
      "metadata": {
        "id": "1zHL0Sysp5QU",
        "colab": {
          "base_uri": "https://localhost:8080/"
        },
        "outputId": "46e37409-6f54-4068-e246-ce709aa4b15f"
      },
      "execution_count": null,
      "outputs": [
        {
          "output_type": "stream",
          "name": "stdout",
          "text": [
            "              Rooms         Price      Distance      Postcode      Bedroom2  \\\n",
            "count  13580.000000  1.358000e+04  13580.000000  13580.000000  13580.000000   \n",
            "mean       2.937997  1.075684e+06     10.137776   3105.301915      2.914728   \n",
            "std        0.955748  6.393107e+05      5.868725     90.676964      0.965921   \n",
            "min        1.000000  8.500000e+04      0.000000   3000.000000      0.000000   \n",
            "25%        2.000000  6.500000e+05      6.100000   3044.000000      2.000000   \n",
            "50%        3.000000  9.030000e+05      9.200000   3084.000000      3.000000   \n",
            "75%        3.000000  1.330000e+06     13.000000   3148.000000      3.000000   \n",
            "max       10.000000  9.000000e+06     48.100000   3977.000000     20.000000   \n",
            "\n",
            "           Bathroom           Car       Landsize  BuildingArea    YearBuilt  \\\n",
            "count  13580.000000  13518.000000   13580.000000   7130.000000  8205.000000   \n",
            "mean       1.534242      1.610075     558.416127    151.967650  1964.684217   \n",
            "std        0.691712      0.962634    3990.669241    541.014538    37.273762   \n",
            "min        0.000000      0.000000       0.000000      0.000000  1196.000000   \n",
            "25%        1.000000      1.000000     177.000000     93.000000  1940.000000   \n",
            "50%        1.000000      2.000000     440.000000    126.000000  1970.000000   \n",
            "75%        2.000000      2.000000     651.000000    174.000000  1999.000000   \n",
            "max        8.000000     10.000000  433014.000000  44515.000000  2018.000000   \n",
            "\n",
            "          Lattitude    Longtitude  Propertycount  \n",
            "count  13580.000000  13580.000000   13580.000000  \n",
            "mean     -37.809203    144.995216    7454.417378  \n",
            "std        0.079260      0.103916    4378.581772  \n",
            "min      -38.182550    144.431810     249.000000  \n",
            "25%      -37.856822    144.929600    4380.000000  \n",
            "50%      -37.802355    145.000100    6555.000000  \n",
            "75%      -37.756400    145.058305   10331.000000  \n",
            "max      -37.408530    145.526350   21650.000000  \n"
          ]
        }
      ]
    },
    {
      "cell_type": "markdown",
      "source": [
        "This exercise will test your ability to read a data file and understand statistics about the data.\n",
        "\n",
        "In later exercises, you will apply techniques to filter the data, build a machine learning model, and iteratively improve your model.\n",
        "\n",
        "The course examples use data from Melbourne. To ensure you can apply these techniques on your own, you will have to apply them to a new dataset (with house prices from Iowa).\n",
        "\n",
        "# Exercises\n",
        "\n",
        "Run the following cell to set up code-checking, which will verify your work as you go."
      ],
      "metadata": {
        "id": "u6K0McSzpE5r"
      }
    },
    {
      "cell_type": "code",
      "source": [
        "!pip install git+https://github.com/Kaggle/learntools.git"
      ],
      "metadata": {
        "id": "IntTimrhq8k8",
        "colab": {
          "base_uri": "https://localhost:8080/"
        },
        "outputId": "4cdf7528-b5be-4802-f9a4-9703d9000887"
      },
      "execution_count": null,
      "outputs": [
        {
          "output_type": "stream",
          "name": "stdout",
          "text": [
            "Collecting git+https://github.com/Kaggle/learntools.git\n",
            "  Cloning https://github.com/Kaggle/learntools.git to /tmp/pip-req-build-xcfud2lb\n",
            "  Running command git clone --filter=blob:none --quiet https://github.com/Kaggle/learntools.git /tmp/pip-req-build-xcfud2lb\n",
            "  Resolved https://github.com/Kaggle/learntools.git to commit 010e3b5035354e15c073a0aca9e202c2e2beb742\n",
            "  Preparing metadata (setup.py) ... \u001b[?25l\u001b[?25hdone\n",
            "Building wheels for collected packages: learntools\n",
            "  Building wheel for learntools (setup.py) ... \u001b[?25l\u001b[?25hdone\n",
            "  Created wheel for learntools: filename=learntools-0.3.4-py3-none-any.whl size=269001 sha256=6701c50b16fbb07b47882933abc3d6db9f1bde0af15c92753af7d2c4829e85d9\n",
            "  Stored in directory: /tmp/pip-ephem-wheel-cache-mg3rniw4/wheels/2f/6c/3c/aa9f50cfb5a862157cb4c7a5b34881828cf45404698255dced\n",
            "Successfully built learntools\n",
            "Installing collected packages: learntools\n",
            "Successfully installed learntools-0.3.4\n"
          ]
        }
      ]
    },
    {
      "cell_type": "code",
      "source": [
        "# Set up code checking\n",
        "from learntools.core import binder\n",
        "binder.bind(globals())\n",
        "from learntools.machine_learning.ex2 import *\n",
        "print(\"Setup Complete\")"
      ],
      "metadata": {
        "collapsed": true,
        "jupyter": {
          "outputs_hidden": true
        },
        "id": "zhRxOF9vpE5r",
        "outputId": "b9520f2f-e5b5-4faa-9364-caab003ea044",
        "colab": {
          "base_uri": "https://localhost:8080/"
        }
      },
      "execution_count": null,
      "outputs": [
        {
          "output_type": "stream",
          "name": "stdout",
          "text": [
            "Setup Complete\n"
          ]
        }
      ]
    },
    {
      "cell_type": "markdown",
      "source": [
        "## Step 1: Loading Data\n",
        "Read the Iowa data file into a Pandas DataFrame called `home_data`."
      ],
      "metadata": {
        "id": "_xFoQu9ApE5s"
      }
    },
    {
      "cell_type": "code",
      "source": [
        "import pandas as pd\n",
        "\n",
        "# Use the dynamically generated path from kagglehub\n",
        "iowa_file_path = f\"{nickptaylor_iowa_house_prices_path}/train.csv\"\n",
        "\n",
        "# Read the Iowa data into a Pandas DataFrame\n",
        "home_data =\n",
        "\n",
        "# Call line below with no argument to check that you've loaded the data correctly\n",
        "step_1.check()\n"
      ],
      "metadata": {
        "collapsed": true,
        "jupyter": {
          "outputs_hidden": true
        },
        "id": "-abWdVLhpE5s",
        "outputId": "48abc4f6-8218-45f8-bfeb-1a90d6cc6ceb",
        "colab": {
          "base_uri": "https://localhost:8080/",
          "height": 106
        }
      },
      "execution_count": null,
      "outputs": [
        {
          "output_type": "error",
          "ename": "SyntaxError",
          "evalue": "invalid syntax (<ipython-input-6-43bcc7a9ef19>, line 7)",
          "traceback": [
            "\u001b[0;36m  File \u001b[0;32m\"<ipython-input-6-43bcc7a9ef19>\"\u001b[0;36m, line \u001b[0;32m7\u001b[0m\n\u001b[0;31m    home_data =\u001b[0m\n\u001b[0m               ^\u001b[0m\n\u001b[0;31mSyntaxError\u001b[0m\u001b[0;31m:\u001b[0m invalid syntax\n"
          ]
        }
      ]
    },
    {
      "cell_type": "code",
      "source": [
        "# Lines below will give you a hint or solution code\n",
        "step_1.hint()\n",
        "#step_1.solution()"
      ],
      "metadata": {
        "collapsed": true,
        "jupyter": {
          "outputs_hidden": true
        },
        "id": "xHnZ6OcOpE5s",
        "colab": {
          "base_uri": "https://localhost:8080/",
          "height": 46
        },
        "outputId": "49512db7-5082-4596-bb6d-59c91480e8aa"
      },
      "execution_count": null,
      "outputs": [
        {
          "output_type": "display_data",
          "data": {
            "text/plain": [
              "<IPython.core.display.Javascript object>"
            ],
            "application/javascript": [
              "parent.postMessage({\"jupyterEvent\": \"custom.exercise_interaction\", \"data\": {\"interactionType\": 2, \"questionType\": 1, \"questionId\": \"1_LoadHomeData\", \"learnToolsVersion\": \"0.3.4\", \"valueTowardsCompletion\": 0.0, \"failureMessage\": \"\", \"exceptionClass\": \"\", \"trace\": \"\", \"outcomeType\": 4}}, \"*\")"
            ]
          },
          "metadata": {}
        },
        {
          "output_type": "display_data",
          "data": {
            "text/plain": [
              "Hint: Use the `pd.read_csv` function"
            ],
            "text/markdown": "<span style=\"color:#3366cc\">Hint:</span> Use the `pd.read_csv` function"
          },
          "metadata": {}
        }
      ]
    },
    {
      "cell_type": "markdown",
      "source": [
        "## Step 2: Review The Data\n",
        "Use the command you learned to view summary statistics of the data. Then fill in variables to answer the following questions"
      ],
      "metadata": {
        "id": "hKEU_eK9pE5s"
      }
    },
    {
      "cell_type": "code",
      "source": [
        "# Print summary statistics in next line\n",
        "____"
      ],
      "metadata": {
        "jupyter": {
          "outputs_hidden": true
        },
        "id": "kH8GHu0jpE5t",
        "outputId": "98507fa6-42ba-484d-dfa1-93d1f7f6ed50",
        "colab": {
          "base_uri": "https://localhost:8080/",
          "height": 17
        }
      },
      "execution_count": null,
      "outputs": [
        {
          "output_type": "execute_result",
          "data": {
            "text/plain": [
              "<learntools.core.constants.PlaceholderValue at 0x7a4c21cdd4e0>"
            ],
            "text/markdown": ""
          },
          "metadata": {},
          "execution_count": 22
        }
      ]
    },
    {
      "cell_type": "code",
      "source": [
        "# What is the average lot size (rounded to nearest integer)?\n",
        "avg_lot_size = ____\n",
        "\n",
        "# As of today, how old is the newest home (current year - the date in which it was built)\n",
        "newest_home_age = ____\n",
        "\n",
        "# Checks your answers\n",
        "step_2.check()"
      ],
      "metadata": {
        "id": "tU8aRfCtpE5t",
        "outputId": "1e408fa7-0239-4e8a-8cb3-2261e8bbbb4c",
        "colab": {
          "base_uri": "https://localhost:8080/",
          "height": 64
        }
      },
      "execution_count": null,
      "outputs": [
        {
          "output_type": "display_data",
          "data": {
            "text/plain": [
              "<IPython.core.display.Javascript object>"
            ],
            "application/javascript": [
              "parent.postMessage({\"jupyterEvent\": \"custom.exercise_interaction\", \"data\": {\"outcomeType\": 4, \"interactionType\": 1, \"questionType\": 1, \"questionId\": \"2_HomeDescription\", \"learnToolsVersion\": \"0.3.4\", \"valueTowardsCompletion\": 0.0, \"failureMessage\": \"\", \"exceptionClass\": \"\", \"trace\": \"\"}}, \"*\")"
            ]
          },
          "metadata": {}
        },
        {
          "output_type": "display_data",
          "data": {
            "text/plain": [
              "Check: When you've updated the starter code, `check()` will tell you whether your code is correct. You need to update the code that creates variables `avg_lot_size`, `newest_home_age`"
            ],
            "text/markdown": "<span style=\"color:#ccaa33\">Check:</span> When you've updated the starter code, `check()` will tell you whether your code is correct. You need to update the code that creates variables `avg_lot_size`, `newest_home_age`"
          },
          "metadata": {}
        }
      ]
    },
    {
      "cell_type": "code",
      "source": [
        "step_2.hint()\n",
        "#step_2.solution()"
      ],
      "metadata": {
        "collapsed": true,
        "jupyter": {
          "outputs_hidden": true
        },
        "id": "Hl-2spK3pE5t",
        "colab": {
          "base_uri": "https://localhost:8080/",
          "height": 46
        },
        "outputId": "d1d41a50-289d-4fa1-9f9d-72e9efeeb6c6"
      },
      "execution_count": null,
      "outputs": [
        {
          "output_type": "display_data",
          "data": {
            "text/plain": [
              "<IPython.core.display.Javascript object>"
            ],
            "application/javascript": [
              "parent.postMessage({\"jupyterEvent\": \"custom.exercise_interaction\", \"data\": {\"interactionType\": 2, \"questionType\": 1, \"questionId\": \"2_HomeDescription\", \"learnToolsVersion\": \"0.3.4\", \"valueTowardsCompletion\": 0.0, \"failureMessage\": \"\", \"exceptionClass\": \"\", \"trace\": \"\", \"outcomeType\": 4}}, \"*\")"
            ]
          },
          "metadata": {}
        },
        {
          "output_type": "display_data",
          "data": {
            "text/plain": [
              "Hint: Run the describe command. Lot size is in the column called LotArea. Also look at YearBuilt. Remember to round lot size "
            ],
            "text/markdown": "<span style=\"color:#3366cc\">Hint:</span> Run the describe command. Lot size is in the column called LotArea. Also look at YearBuilt. Remember to round lot size "
          },
          "metadata": {}
        }
      ]
    },
    {
      "cell_type": "markdown",
      "source": [
        "## Think About Your Data\n",
        "\n",
        "The newest house in your data isn't that new.  A few potential explanations for this:\n",
        "1. They haven't built new houses where this data was collected.\n",
        "1. The data was collected a long time ago. Houses built after the data publication wouldn't show up.\n",
        "\n",
        "If the reason is explanation #1 above, does that affect your trust in the model you build with this data? What about if it is reason #2?\n"
      ],
      "metadata": {
        "id": "uS_LJDvLpE5t"
      }
    }
  ]
}